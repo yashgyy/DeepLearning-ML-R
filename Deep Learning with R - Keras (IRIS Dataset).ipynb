{
 "cells": [
  {
   "cell_type": "code",
   "execution_count": 89,
   "metadata": {},
   "outputs": [],
   "source": [
    "library(keras)"
   ]
  },
  {
   "cell_type": "code",
   "execution_count": 90,
   "metadata": {},
   "outputs": [],
   "source": [
    "library(caret)"
   ]
  },
  {
   "cell_type": "code",
   "execution_count": 91,
   "metadata": {},
   "outputs": [
    {
     "data": {
      "text/html": [
       "<table>\n",
       "<thead><tr><th scope=col>Sepal.Length</th><th scope=col>Sepal.Width</th><th scope=col>Petal.Length</th><th scope=col>Petal.Width</th><th scope=col>Species</th></tr></thead>\n",
       "<tbody>\n",
       "\t<tr><td>5.1   </td><td>3.5   </td><td>1.4   </td><td>0.2   </td><td>setosa</td></tr>\n",
       "\t<tr><td>4.9   </td><td>3.0   </td><td>1.4   </td><td>0.2   </td><td>setosa</td></tr>\n",
       "\t<tr><td>4.7   </td><td>3.2   </td><td>1.3   </td><td>0.2   </td><td>setosa</td></tr>\n",
       "\t<tr><td>4.6   </td><td>3.1   </td><td>1.5   </td><td>0.2   </td><td>setosa</td></tr>\n",
       "\t<tr><td>5.0   </td><td>3.6   </td><td>1.4   </td><td>0.2   </td><td>setosa</td></tr>\n",
       "\t<tr><td>5.4   </td><td>3.9   </td><td>1.7   </td><td>0.4   </td><td>setosa</td></tr>\n",
       "\t<tr><td>4.6   </td><td>3.4   </td><td>1.4   </td><td>0.3   </td><td>setosa</td></tr>\n",
       "\t<tr><td>5.0   </td><td>3.4   </td><td>1.5   </td><td>0.2   </td><td>setosa</td></tr>\n",
       "\t<tr><td>4.4   </td><td>2.9   </td><td>1.4   </td><td>0.2   </td><td>setosa</td></tr>\n",
       "\t<tr><td>4.9   </td><td>3.1   </td><td>1.5   </td><td>0.1   </td><td>setosa</td></tr>\n",
       "\t<tr><td>5.4   </td><td>3.7   </td><td>1.5   </td><td>0.2   </td><td>setosa</td></tr>\n",
       "\t<tr><td>4.8   </td><td>3.4   </td><td>1.6   </td><td>0.2   </td><td>setosa</td></tr>\n",
       "\t<tr><td>4.8   </td><td>3.0   </td><td>1.4   </td><td>0.1   </td><td>setosa</td></tr>\n",
       "\t<tr><td>4.3   </td><td>3.0   </td><td>1.1   </td><td>0.1   </td><td>setosa</td></tr>\n",
       "\t<tr><td>5.8   </td><td>4.0   </td><td>1.2   </td><td>0.2   </td><td>setosa</td></tr>\n",
       "\t<tr><td>5.7   </td><td>4.4   </td><td>1.5   </td><td>0.4   </td><td>setosa</td></tr>\n",
       "\t<tr><td>5.4   </td><td>3.9   </td><td>1.3   </td><td>0.4   </td><td>setosa</td></tr>\n",
       "\t<tr><td>5.1   </td><td>3.5   </td><td>1.4   </td><td>0.3   </td><td>setosa</td></tr>\n",
       "\t<tr><td>5.7   </td><td>3.8   </td><td>1.7   </td><td>0.3   </td><td>setosa</td></tr>\n",
       "\t<tr><td>5.1   </td><td>3.8   </td><td>1.5   </td><td>0.3   </td><td>setosa</td></tr>\n",
       "\t<tr><td>5.4   </td><td>3.4   </td><td>1.7   </td><td>0.2   </td><td>setosa</td></tr>\n",
       "\t<tr><td>5.1   </td><td>3.7   </td><td>1.5   </td><td>0.4   </td><td>setosa</td></tr>\n",
       "\t<tr><td>4.6   </td><td>3.6   </td><td>1.0   </td><td>0.2   </td><td>setosa</td></tr>\n",
       "\t<tr><td>5.1   </td><td>3.3   </td><td>1.7   </td><td>0.5   </td><td>setosa</td></tr>\n",
       "\t<tr><td>4.8   </td><td>3.4   </td><td>1.9   </td><td>0.2   </td><td>setosa</td></tr>\n",
       "\t<tr><td>5.0   </td><td>3.0   </td><td>1.6   </td><td>0.2   </td><td>setosa</td></tr>\n",
       "\t<tr><td>5.0   </td><td>3.4   </td><td>1.6   </td><td>0.4   </td><td>setosa</td></tr>\n",
       "\t<tr><td>5.2   </td><td>3.5   </td><td>1.5   </td><td>0.2   </td><td>setosa</td></tr>\n",
       "\t<tr><td>5.2   </td><td>3.4   </td><td>1.4   </td><td>0.2   </td><td>setosa</td></tr>\n",
       "\t<tr><td>4.7   </td><td>3.2   </td><td>1.6   </td><td>0.2   </td><td>setosa</td></tr>\n",
       "\t<tr><td>...</td><td>...</td><td>...</td><td>...</td><td>...</td></tr>\n",
       "\t<tr><td>6.9      </td><td>3.2      </td><td>5.7      </td><td>2.3      </td><td>virginica</td></tr>\n",
       "\t<tr><td>5.6      </td><td>2.8      </td><td>4.9      </td><td>2.0      </td><td>virginica</td></tr>\n",
       "\t<tr><td>7.7      </td><td>2.8      </td><td>6.7      </td><td>2.0      </td><td>virginica</td></tr>\n",
       "\t<tr><td>6.3      </td><td>2.7      </td><td>4.9      </td><td>1.8      </td><td>virginica</td></tr>\n",
       "\t<tr><td>6.7      </td><td>3.3      </td><td>5.7      </td><td>2.1      </td><td>virginica</td></tr>\n",
       "\t<tr><td>7.2      </td><td>3.2      </td><td>6.0      </td><td>1.8      </td><td>virginica</td></tr>\n",
       "\t<tr><td>6.2      </td><td>2.8      </td><td>4.8      </td><td>1.8      </td><td>virginica</td></tr>\n",
       "\t<tr><td>6.1      </td><td>3.0      </td><td>4.9      </td><td>1.8      </td><td>virginica</td></tr>\n",
       "\t<tr><td>6.4      </td><td>2.8      </td><td>5.6      </td><td>2.1      </td><td>virginica</td></tr>\n",
       "\t<tr><td>7.2      </td><td>3.0      </td><td>5.8      </td><td>1.6      </td><td>virginica</td></tr>\n",
       "\t<tr><td>7.4      </td><td>2.8      </td><td>6.1      </td><td>1.9      </td><td>virginica</td></tr>\n",
       "\t<tr><td>7.9      </td><td>3.8      </td><td>6.4      </td><td>2.0      </td><td>virginica</td></tr>\n",
       "\t<tr><td>6.4      </td><td>2.8      </td><td>5.6      </td><td>2.2      </td><td>virginica</td></tr>\n",
       "\t<tr><td>6.3      </td><td>2.8      </td><td>5.1      </td><td>1.5      </td><td>virginica</td></tr>\n",
       "\t<tr><td>6.1      </td><td>2.6      </td><td>5.6      </td><td>1.4      </td><td>virginica</td></tr>\n",
       "\t<tr><td>7.7      </td><td>3.0      </td><td>6.1      </td><td>2.3      </td><td>virginica</td></tr>\n",
       "\t<tr><td>6.3      </td><td>3.4      </td><td>5.6      </td><td>2.4      </td><td>virginica</td></tr>\n",
       "\t<tr><td>6.4      </td><td>3.1      </td><td>5.5      </td><td>1.8      </td><td>virginica</td></tr>\n",
       "\t<tr><td>6.0      </td><td>3.0      </td><td>4.8      </td><td>1.8      </td><td>virginica</td></tr>\n",
       "\t<tr><td>6.9      </td><td>3.1      </td><td>5.4      </td><td>2.1      </td><td>virginica</td></tr>\n",
       "\t<tr><td>6.7      </td><td>3.1      </td><td>5.6      </td><td>2.4      </td><td>virginica</td></tr>\n",
       "\t<tr><td>6.9      </td><td>3.1      </td><td>5.1      </td><td>2.3      </td><td>virginica</td></tr>\n",
       "\t<tr><td>5.8      </td><td>2.7      </td><td>5.1      </td><td>1.9      </td><td>virginica</td></tr>\n",
       "\t<tr><td>6.8      </td><td>3.2      </td><td>5.9      </td><td>2.3      </td><td>virginica</td></tr>\n",
       "\t<tr><td>6.7      </td><td>3.3      </td><td>5.7      </td><td>2.5      </td><td>virginica</td></tr>\n",
       "\t<tr><td>6.7      </td><td>3.0      </td><td>5.2      </td><td>2.3      </td><td>virginica</td></tr>\n",
       "\t<tr><td>6.3      </td><td>2.5      </td><td>5.0      </td><td>1.9      </td><td>virginica</td></tr>\n",
       "\t<tr><td>6.5      </td><td>3.0      </td><td>5.2      </td><td>2.0      </td><td>virginica</td></tr>\n",
       "\t<tr><td>6.2      </td><td>3.4      </td><td>5.4      </td><td>2.3      </td><td>virginica</td></tr>\n",
       "\t<tr><td>5.9      </td><td>3.0      </td><td>5.1      </td><td>1.8      </td><td>virginica</td></tr>\n",
       "</tbody>\n",
       "</table>\n"
      ],
      "text/latex": [
       "\\begin{tabular}{r|lllll}\n",
       " Sepal.Length & Sepal.Width & Petal.Length & Petal.Width & Species\\\\\n",
       "\\hline\n",
       "\t 5.1    & 3.5    & 1.4    & 0.2    & setosa\\\\\n",
       "\t 4.9    & 3.0    & 1.4    & 0.2    & setosa\\\\\n",
       "\t 4.7    & 3.2    & 1.3    & 0.2    & setosa\\\\\n",
       "\t 4.6    & 3.1    & 1.5    & 0.2    & setosa\\\\\n",
       "\t 5.0    & 3.6    & 1.4    & 0.2    & setosa\\\\\n",
       "\t 5.4    & 3.9    & 1.7    & 0.4    & setosa\\\\\n",
       "\t 4.6    & 3.4    & 1.4    & 0.3    & setosa\\\\\n",
       "\t 5.0    & 3.4    & 1.5    & 0.2    & setosa\\\\\n",
       "\t 4.4    & 2.9    & 1.4    & 0.2    & setosa\\\\\n",
       "\t 4.9    & 3.1    & 1.5    & 0.1    & setosa\\\\\n",
       "\t 5.4    & 3.7    & 1.5    & 0.2    & setosa\\\\\n",
       "\t 4.8    & 3.4    & 1.6    & 0.2    & setosa\\\\\n",
       "\t 4.8    & 3.0    & 1.4    & 0.1    & setosa\\\\\n",
       "\t 4.3    & 3.0    & 1.1    & 0.1    & setosa\\\\\n",
       "\t 5.8    & 4.0    & 1.2    & 0.2    & setosa\\\\\n",
       "\t 5.7    & 4.4    & 1.5    & 0.4    & setosa\\\\\n",
       "\t 5.4    & 3.9    & 1.3    & 0.4    & setosa\\\\\n",
       "\t 5.1    & 3.5    & 1.4    & 0.3    & setosa\\\\\n",
       "\t 5.7    & 3.8    & 1.7    & 0.3    & setosa\\\\\n",
       "\t 5.1    & 3.8    & 1.5    & 0.3    & setosa\\\\\n",
       "\t 5.4    & 3.4    & 1.7    & 0.2    & setosa\\\\\n",
       "\t 5.1    & 3.7    & 1.5    & 0.4    & setosa\\\\\n",
       "\t 4.6    & 3.6    & 1.0    & 0.2    & setosa\\\\\n",
       "\t 5.1    & 3.3    & 1.7    & 0.5    & setosa\\\\\n",
       "\t 4.8    & 3.4    & 1.9    & 0.2    & setosa\\\\\n",
       "\t 5.0    & 3.0    & 1.6    & 0.2    & setosa\\\\\n",
       "\t 5.0    & 3.4    & 1.6    & 0.4    & setosa\\\\\n",
       "\t 5.2    & 3.5    & 1.5    & 0.2    & setosa\\\\\n",
       "\t 5.2    & 3.4    & 1.4    & 0.2    & setosa\\\\\n",
       "\t 4.7    & 3.2    & 1.6    & 0.2    & setosa\\\\\n",
       "\t ... & ... & ... & ... & ...\\\\\n",
       "\t 6.9       & 3.2       & 5.7       & 2.3       & virginica\\\\\n",
       "\t 5.6       & 2.8       & 4.9       & 2.0       & virginica\\\\\n",
       "\t 7.7       & 2.8       & 6.7       & 2.0       & virginica\\\\\n",
       "\t 6.3       & 2.7       & 4.9       & 1.8       & virginica\\\\\n",
       "\t 6.7       & 3.3       & 5.7       & 2.1       & virginica\\\\\n",
       "\t 7.2       & 3.2       & 6.0       & 1.8       & virginica\\\\\n",
       "\t 6.2       & 2.8       & 4.8       & 1.8       & virginica\\\\\n",
       "\t 6.1       & 3.0       & 4.9       & 1.8       & virginica\\\\\n",
       "\t 6.4       & 2.8       & 5.6       & 2.1       & virginica\\\\\n",
       "\t 7.2       & 3.0       & 5.8       & 1.6       & virginica\\\\\n",
       "\t 7.4       & 2.8       & 6.1       & 1.9       & virginica\\\\\n",
       "\t 7.9       & 3.8       & 6.4       & 2.0       & virginica\\\\\n",
       "\t 6.4       & 2.8       & 5.6       & 2.2       & virginica\\\\\n",
       "\t 6.3       & 2.8       & 5.1       & 1.5       & virginica\\\\\n",
       "\t 6.1       & 2.6       & 5.6       & 1.4       & virginica\\\\\n",
       "\t 7.7       & 3.0       & 6.1       & 2.3       & virginica\\\\\n",
       "\t 6.3       & 3.4       & 5.6       & 2.4       & virginica\\\\\n",
       "\t 6.4       & 3.1       & 5.5       & 1.8       & virginica\\\\\n",
       "\t 6.0       & 3.0       & 4.8       & 1.8       & virginica\\\\\n",
       "\t 6.9       & 3.1       & 5.4       & 2.1       & virginica\\\\\n",
       "\t 6.7       & 3.1       & 5.6       & 2.4       & virginica\\\\\n",
       "\t 6.9       & 3.1       & 5.1       & 2.3       & virginica\\\\\n",
       "\t 5.8       & 2.7       & 5.1       & 1.9       & virginica\\\\\n",
       "\t 6.8       & 3.2       & 5.9       & 2.3       & virginica\\\\\n",
       "\t 6.7       & 3.3       & 5.7       & 2.5       & virginica\\\\\n",
       "\t 6.7       & 3.0       & 5.2       & 2.3       & virginica\\\\\n",
       "\t 6.3       & 2.5       & 5.0       & 1.9       & virginica\\\\\n",
       "\t 6.5       & 3.0       & 5.2       & 2.0       & virginica\\\\\n",
       "\t 6.2       & 3.4       & 5.4       & 2.3       & virginica\\\\\n",
       "\t 5.9       & 3.0       & 5.1       & 1.8       & virginica\\\\\n",
       "\\end{tabular}\n"
      ],
      "text/markdown": [
       "\n",
       "Sepal.Length | Sepal.Width | Petal.Length | Petal.Width | Species | \n",
       "|---|---|---|---|---|---|---|---|---|---|---|---|---|---|---|---|---|---|---|---|---|---|---|---|---|---|---|---|---|---|---|---|---|---|---|---|---|---|---|---|---|---|---|---|---|---|---|---|---|---|---|---|---|---|---|---|---|---|---|---|---|\n",
       "| 5.1    | 3.5    | 1.4    | 0.2    | setosa | \n",
       "| 4.9    | 3.0    | 1.4    | 0.2    | setosa | \n",
       "| 4.7    | 3.2    | 1.3    | 0.2    | setosa | \n",
       "| 4.6    | 3.1    | 1.5    | 0.2    | setosa | \n",
       "| 5.0    | 3.6    | 1.4    | 0.2    | setosa | \n",
       "| 5.4    | 3.9    | 1.7    | 0.4    | setosa | \n",
       "| 4.6    | 3.4    | 1.4    | 0.3    | setosa | \n",
       "| 5.0    | 3.4    | 1.5    | 0.2    | setosa | \n",
       "| 4.4    | 2.9    | 1.4    | 0.2    | setosa | \n",
       "| 4.9    | 3.1    | 1.5    | 0.1    | setosa | \n",
       "| 5.4    | 3.7    | 1.5    | 0.2    | setosa | \n",
       "| 4.8    | 3.4    | 1.6    | 0.2    | setosa | \n",
       "| 4.8    | 3.0    | 1.4    | 0.1    | setosa | \n",
       "| 4.3    | 3.0    | 1.1    | 0.1    | setosa | \n",
       "| 5.8    | 4.0    | 1.2    | 0.2    | setosa | \n",
       "| 5.7    | 4.4    | 1.5    | 0.4    | setosa | \n",
       "| 5.4    | 3.9    | 1.3    | 0.4    | setosa | \n",
       "| 5.1    | 3.5    | 1.4    | 0.3    | setosa | \n",
       "| 5.7    | 3.8    | 1.7    | 0.3    | setosa | \n",
       "| 5.1    | 3.8    | 1.5    | 0.3    | setosa | \n",
       "| 5.4    | 3.4    | 1.7    | 0.2    | setosa | \n",
       "| 5.1    | 3.7    | 1.5    | 0.4    | setosa | \n",
       "| 4.6    | 3.6    | 1.0    | 0.2    | setosa | \n",
       "| 5.1    | 3.3    | 1.7    | 0.5    | setosa | \n",
       "| 4.8    | 3.4    | 1.9    | 0.2    | setosa | \n",
       "| 5.0    | 3.0    | 1.6    | 0.2    | setosa | \n",
       "| 5.0    | 3.4    | 1.6    | 0.4    | setosa | \n",
       "| 5.2    | 3.5    | 1.5    | 0.2    | setosa | \n",
       "| 5.2    | 3.4    | 1.4    | 0.2    | setosa | \n",
       "| 4.7    | 3.2    | 1.6    | 0.2    | setosa | \n",
       "| ... | ... | ... | ... | ... | \n",
       "| 6.9       | 3.2       | 5.7       | 2.3       | virginica | \n",
       "| 5.6       | 2.8       | 4.9       | 2.0       | virginica | \n",
       "| 7.7       | 2.8       | 6.7       | 2.0       | virginica | \n",
       "| 6.3       | 2.7       | 4.9       | 1.8       | virginica | \n",
       "| 6.7       | 3.3       | 5.7       | 2.1       | virginica | \n",
       "| 7.2       | 3.2       | 6.0       | 1.8       | virginica | \n",
       "| 6.2       | 2.8       | 4.8       | 1.8       | virginica | \n",
       "| 6.1       | 3.0       | 4.9       | 1.8       | virginica | \n",
       "| 6.4       | 2.8       | 5.6       | 2.1       | virginica | \n",
       "| 7.2       | 3.0       | 5.8       | 1.6       | virginica | \n",
       "| 7.4       | 2.8       | 6.1       | 1.9       | virginica | \n",
       "| 7.9       | 3.8       | 6.4       | 2.0       | virginica | \n",
       "| 6.4       | 2.8       | 5.6       | 2.2       | virginica | \n",
       "| 6.3       | 2.8       | 5.1       | 1.5       | virginica | \n",
       "| 6.1       | 2.6       | 5.6       | 1.4       | virginica | \n",
       "| 7.7       | 3.0       | 6.1       | 2.3       | virginica | \n",
       "| 6.3       | 3.4       | 5.6       | 2.4       | virginica | \n",
       "| 6.4       | 3.1       | 5.5       | 1.8       | virginica | \n",
       "| 6.0       | 3.0       | 4.8       | 1.8       | virginica | \n",
       "| 6.9       | 3.1       | 5.4       | 2.1       | virginica | \n",
       "| 6.7       | 3.1       | 5.6       | 2.4       | virginica | \n",
       "| 6.9       | 3.1       | 5.1       | 2.3       | virginica | \n",
       "| 5.8       | 2.7       | 5.1       | 1.9       | virginica | \n",
       "| 6.8       | 3.2       | 5.9       | 2.3       | virginica | \n",
       "| 6.7       | 3.3       | 5.7       | 2.5       | virginica | \n",
       "| 6.7       | 3.0       | 5.2       | 2.3       | virginica | \n",
       "| 6.3       | 2.5       | 5.0       | 1.9       | virginica | \n",
       "| 6.5       | 3.0       | 5.2       | 2.0       | virginica | \n",
       "| 6.2       | 3.4       | 5.4       | 2.3       | virginica | \n",
       "| 5.9       | 3.0       | 5.1       | 1.8       | virginica | \n",
       "\n",
       "\n"
      ],
      "text/plain": [
       "    Sepal.Length Sepal.Width Petal.Length Petal.Width Species  \n",
       "1   5.1          3.5         1.4          0.2         setosa   \n",
       "2   4.9          3.0         1.4          0.2         setosa   \n",
       "3   4.7          3.2         1.3          0.2         setosa   \n",
       "4   4.6          3.1         1.5          0.2         setosa   \n",
       "5   5.0          3.6         1.4          0.2         setosa   \n",
       "6   5.4          3.9         1.7          0.4         setosa   \n",
       "7   4.6          3.4         1.4          0.3         setosa   \n",
       "8   5.0          3.4         1.5          0.2         setosa   \n",
       "9   4.4          2.9         1.4          0.2         setosa   \n",
       "10  4.9          3.1         1.5          0.1         setosa   \n",
       "11  5.4          3.7         1.5          0.2         setosa   \n",
       "12  4.8          3.4         1.6          0.2         setosa   \n",
       "13  4.8          3.0         1.4          0.1         setosa   \n",
       "14  4.3          3.0         1.1          0.1         setosa   \n",
       "15  5.8          4.0         1.2          0.2         setosa   \n",
       "16  5.7          4.4         1.5          0.4         setosa   \n",
       "17  5.4          3.9         1.3          0.4         setosa   \n",
       "18  5.1          3.5         1.4          0.3         setosa   \n",
       "19  5.7          3.8         1.7          0.3         setosa   \n",
       "20  5.1          3.8         1.5          0.3         setosa   \n",
       "21  5.4          3.4         1.7          0.2         setosa   \n",
       "22  5.1          3.7         1.5          0.4         setosa   \n",
       "23  4.6          3.6         1.0          0.2         setosa   \n",
       "24  5.1          3.3         1.7          0.5         setosa   \n",
       "25  4.8          3.4         1.9          0.2         setosa   \n",
       "26  5.0          3.0         1.6          0.2         setosa   \n",
       "27  5.0          3.4         1.6          0.4         setosa   \n",
       "28  5.2          3.5         1.5          0.2         setosa   \n",
       "29  5.2          3.4         1.4          0.2         setosa   \n",
       "30  4.7          3.2         1.6          0.2         setosa   \n",
       "... ...          ...         ...          ...         ...      \n",
       "121 6.9          3.2         5.7          2.3         virginica\n",
       "122 5.6          2.8         4.9          2.0         virginica\n",
       "123 7.7          2.8         6.7          2.0         virginica\n",
       "124 6.3          2.7         4.9          1.8         virginica\n",
       "125 6.7          3.3         5.7          2.1         virginica\n",
       "126 7.2          3.2         6.0          1.8         virginica\n",
       "127 6.2          2.8         4.8          1.8         virginica\n",
       "128 6.1          3.0         4.9          1.8         virginica\n",
       "129 6.4          2.8         5.6          2.1         virginica\n",
       "130 7.2          3.0         5.8          1.6         virginica\n",
       "131 7.4          2.8         6.1          1.9         virginica\n",
       "132 7.9          3.8         6.4          2.0         virginica\n",
       "133 6.4          2.8         5.6          2.2         virginica\n",
       "134 6.3          2.8         5.1          1.5         virginica\n",
       "135 6.1          2.6         5.6          1.4         virginica\n",
       "136 7.7          3.0         6.1          2.3         virginica\n",
       "137 6.3          3.4         5.6          2.4         virginica\n",
       "138 6.4          3.1         5.5          1.8         virginica\n",
       "139 6.0          3.0         4.8          1.8         virginica\n",
       "140 6.9          3.1         5.4          2.1         virginica\n",
       "141 6.7          3.1         5.6          2.4         virginica\n",
       "142 6.9          3.1         5.1          2.3         virginica\n",
       "143 5.8          2.7         5.1          1.9         virginica\n",
       "144 6.8          3.2         5.9          2.3         virginica\n",
       "145 6.7          3.3         5.7          2.5         virginica\n",
       "146 6.7          3.0         5.2          2.3         virginica\n",
       "147 6.3          2.5         5.0          1.9         virginica\n",
       "148 6.5          3.0         5.2          2.0         virginica\n",
       "149 6.2          3.4         5.4          2.3         virginica\n",
       "150 5.9          3.0         5.1          1.8         virginica"
      ]
     },
     "metadata": {},
     "output_type": "display_data"
    }
   ],
   "source": [
    "iris"
   ]
  },
  {
   "cell_type": "code",
   "execution_count": 92,
   "metadata": {},
   "outputs": [],
   "source": [
    "index<-createDataPartition(iris$Species,p=0.7,list=F)\n",
    "Train_Features <- data.matrix(iris[index,-5])\n",
    "Train_Labels <- iris[index,5]\n",
    "Test_Features <- data.matrix(iris[-index,-5])\n",
    "Test_Labels <- iris[-index,5]"
   ]
  },
  {
   "cell_type": "code",
   "execution_count": 93,
   "metadata": {},
   "outputs": [],
   "source": [
    "to_categorical(as.numeric(Train_Labels))[,c(-1)] -> Train_Labels\n",
    "to_categorical(as.numeric(Test_Labels))[,c(-1)] -> Test_Labels"
   ]
  },
  {
   "cell_type": "code",
   "execution_count": 94,
   "metadata": {},
   "outputs": [
    {
     "data": {
      "text/plain": [
       "       V1               V2               V3        \n",
       " Min.   :0.0000   Min.   :0.0000   Min.   :0.0000  \n",
       " 1st Qu.:0.0000   1st Qu.:0.0000   1st Qu.:0.0000  \n",
       " Median :0.0000   Median :0.0000   Median :0.0000  \n",
       " Mean   :0.3333   Mean   :0.3333   Mean   :0.3333  \n",
       " 3rd Qu.:1.0000   3rd Qu.:1.0000   3rd Qu.:1.0000  \n",
       " Max.   :1.0000   Max.   :1.0000   Max.   :1.0000  "
      ]
     },
     "metadata": {},
     "output_type": "display_data"
    }
   ],
   "source": [
    "summary(Train_Labels)"
   ]
  },
  {
   "cell_type": "code",
   "execution_count": 95,
   "metadata": {},
   "outputs": [
    {
     "name": "stdout",
     "output_type": "stream",
     "text": [
      " num [1:105, 1:4] 5.1 4.9 4.7 4.6 5 5.4 5 4.4 4.9 5.4 ...\n",
      " - attr(*, \"dimnames\")=List of 2\n",
      "  ..$ : chr [1:105] \"1\" \"2\" \"3\" \"4\" ...\n",
      "  ..$ : chr [1:4] \"Sepal.Length\" \"Sepal.Width\" \"Petal.Length\" \"Petal.Width\"\n"
     ]
    }
   ],
   "source": [
    "str(Train_Features)"
   ]
  },
  {
   "cell_type": "code",
   "execution_count": 96,
   "metadata": {},
   "outputs": [],
   "source": [
    "as.matrix(apply(Train_Features, 2, function(x) (x-min(x))/(max(x) - min(x)))) -> Train_Features\n",
    "as.matrix(apply(Test_Features, 2, function(x) (x-min(x))/(max(x) - min(x)))) -> Test_Features"
   ]
  },
  {
   "cell_type": "code",
   "execution_count": 97,
   "metadata": {},
   "outputs": [],
   "source": [
    "model <- keras_model_sequential()"
   ]
  },
  {
   "cell_type": "code",
   "execution_count": 98,
   "metadata": {},
   "outputs": [],
   "source": [
    "model %>%\n",
    "    layer_dense(units=10,activation = \"relu\",input_shape = ncol(Train_Features)) %>%\n",
    "    layer_dense(units = 10, activation = \"relu\") %>%\n",
    "    layer_dense(units = 3, activation = \"softmax\")\n",
    "    \n"
   ]
  },
  {
   "cell_type": "code",
   "execution_count": 99,
   "metadata": {},
   "outputs": [
    {
     "name": "stdout",
     "output_type": "stream",
     "text": [
      "________________________________________________________________________________\n",
      "Layer (type)                        Output Shape                    Param #     \n",
      "================================================================================\n",
      "dense_15 (Dense)                    (None, 10)                      50          \n",
      "________________________________________________________________________________\n",
      "dense_16 (Dense)                    (None, 10)                      110         \n",
      "________________________________________________________________________________\n",
      "dense_17 (Dense)                    (None, 3)                       33          \n",
      "================================================================================\n",
      "Total params: 193\n",
      "Trainable params: 193\n",
      "Non-trainable params: 0\n",
      "________________________________________________________________________________\n"
     ]
    }
   ],
   "source": [
    "summary(model)"
   ]
  },
  {
   "cell_type": "code",
   "execution_count": 100,
   "metadata": {},
   "outputs": [],
   "source": [
    "model %>% compile(loss = \"categorical_crossentropy\",\n",
    "  optimizer = optimizer_adagrad(),\n",
    "  metrics = c('accuracy')\n",
    ")"
   ]
  },
  {
   "cell_type": "code",
   "execution_count": 101,
   "metadata": {},
   "outputs": [],
   "source": [
    "history <- model %>% fit(Train_Features,Train_Labels,validation_split = 0.10,epochs=300,batch_size = 5,shuffle = T)"
   ]
  },
  {
   "cell_type": "code",
   "execution_count": 102,
   "metadata": {},
   "outputs": [
    {
     "data": {},
     "metadata": {},
     "output_type": "display_data"
    },
    {
     "data": {
      "image/png": "[encoded data removed]",
      "text/plain": [
       "plot without title"
      ]
     },
     "metadata": {},
     "output_type": "display_data"
    }
   ],
   "source": [
    "plot(history)"
   ]
  },
  {
   "cell_type": "code",
   "execution_count": 103,
   "metadata": {},
   "outputs": [
    {
     "data": {
      "text/html": [
       "<dl>\n",
       "\t<dt>$loss</dt>\n",
       "\t\t<dd>0.163349384069443</dd>\n",
       "\t<dt>$acc</dt>\n",
       "\t\t<dd>0.911111113760206</dd>\n",
       "</dl>\n"
      ],
      "text/latex": [
       "\\begin{description}\n",
       "\\item[\\$loss] 0.163349384069443\n",
       "\\item[\\$acc] 0.911111113760206\n",
       "\\end{description}\n"
      ],
      "text/markdown": [
       "$loss\n",
       ":   0.163349384069443\n",
       "$acc\n",
       ":   0.911111113760206\n",
       "\n",
       "\n"
      ],
      "text/plain": [
       "$loss\n",
       "[1] 0.1633494\n",
       "\n",
       "$acc\n",
       "[1] 0.9111111\n"
      ]
     },
     "metadata": {},
     "output_type": "display_data"
    }
   ],
   "source": [
    "model %>% evaluate(Test_Features,Test_Labels)"
   ]
  },
  {
   "cell_type": "code",
   "execution_count": null,
   "metadata": {},
   "outputs": [],
   "source": []
  }
 ],
 "metadata": {
  "kernelspec": {
   "display_name": "R",
   "language": "R",
   "name": "ir"
  },
  "language_info": {
   "codemirror_mode": "r",
   "file_extension": ".r",
   "mimetype": "text/x-r-source",
   "name": "R",
   "pygments_lexer": "r",
   "version": "3.5.1"
  }
 },
 "nbformat": 4,
 "nbformat_minor": 2
}
